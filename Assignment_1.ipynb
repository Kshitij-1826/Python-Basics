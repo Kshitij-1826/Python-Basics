{
  "nbformat": 4,
  "nbformat_minor": 0,
  "metadata": {
    "colab": {
      "provenance": []
    },
    "kernelspec": {
      "name": "python3",
      "display_name": "Python 3"
    },
    "language_info": {
      "name": "python"
    }
  },
  "cells": [
    {
      "cell_type": "markdown",
      "source": [
        "# **Python Basic Questions**\n"
      ],
      "metadata": {
        "id": "BP69ktofoiYM"
      }
    },
    {
      "cell_type": "markdown",
      "source": [
        "### **1. What is Python, and why is it popular?**\n",
        "\n",
        "Ans:- Python is a versatile, high level and interpreted programming language know for its wide use in the industry, lot of libraries, which was first developed by Guido Van Rossum in 1991.\n",
        "It is popular due to its widely use in the data industry, lot of libraries, use in automation, use in image processing, frontend, backend, data analysis etc.\n",
        "\n",
        "### **2. What is an interpreter in python?**\n",
        "\n",
        "Ans:- An interpreter is a program that executes Python code directly, without needing to compile it into machine code first. It reads the source code line by line, translates each line into machine-readable instructions, and then executes them immediately.\n",
        "\n",
        "### **3. What are pre defined keywords in Python?**\n",
        "\n",
        "Ans:- Keywords are reserved words in Python that holds special meanings and have specific purpose and cannot be used as identifiers (variable names, function names, etc.). Examples of keywords include if, else, while, for, def, class, import, try, except, return, True, False, None, etc.Keywords are case-sensitive and cannot be redefined or overridden within a Python program.\n",
        "\n",
        "### **4. Can Keywords be used as Variable names?**\n",
        "\n",
        "Ans:- No we cant use Keywords as Variable names as they are the reserved words having specific meaning and specific purpose.\n",
        "\n",
        "### **5. What is Mutability in Python?**\n",
        "\n",
        "Ans:- Mutability means change. It means to edit in the list. Objects/Containers whose state or value can be changed after they are created are called mutable objects or containers. Lists and Dictionaries are the type of mutable object.\n",
        "\n",
        "### **6. Why are lists mutable, but tuples are immutable?**\n",
        "\n",
        "Ans:- Tuples are immutable, meaning that once a tuple has been created, you can't replace any of its elements with a new value. Lists are mutable, meaning that you can always change a list's elements. Only immutable elements can be used as dictionary keys, and hence only tuples and not lists can be used as keys.\n",
        "\n",
        "### **7. What is difference between \"==\" and \"is\" operators in python?**\n",
        "\n",
        "Ans:- \"==\" is a Comparison Operator which are used to compare two operands and determine the relationship between them whereas,\n",
        "\n",
        "\"is\" is a Identity Operator which is used to check if two variables or objects refer to the same onject in memory.\n",
        "\n",
        "### **8. What are Logical Operators in Python?**\n",
        "\n",
        "Ans:- Logical Operators in the python are used to combine conditional statements and to evaluate expressions based on their truth values. There are three types of logical operators AND, OR and NOT.\n",
        "\n",
        "### **9. What is type casting in python?**\n",
        "\n",
        "Ans:-Type casting also known as type conversion is the process of changing the one data type to another in python. Python provides built in functions such as int(), str(), list(), tuple(), dict(), float() etc.\n",
        "Type casting is of two types:- 1) Implicit type casting 2) Explicit type casting\n",
        "\n",
        "### **10. What is difference between implicit and explicit type casting?**\n",
        "\n",
        "Ans:- Implicit type casting:- It refers to the automatic conversion of one data type to another by the python interpreter without requiring explicit instrctions from the programmer.\n",
        "\n",
        "Explicit type casting:- It refers to the process where programmer intentionally converts a value from one data type to another using specific built in functions.\n",
        "\n",
        "### **11. What is the purpose of conditional statements in python?**\n",
        "\n",
        "Ans:- The purpose of conditional statements in Python is to control the flow of execution in a program based on whether certain conditions are met. These statements enable decision-making within the code, allowing different blocks of instructions to be executed depending on the evaluation of a condition to either True or False.\n",
        "\n",
        "### **12. How does the elif statement work?**\n",
        "\n",
        "Ans:- The “elif” keyword in Python, stands for “else if”. It can be used in conditional statements to check for multiple conditions. For example, if the first condition is false, it moves on to the next “elif” statement to check if that condition is true.\n",
        "\n",
        "### **13. What is difference between for and while loops?**\n",
        "\n",
        "Ans:-The main difference between for and while loops lies in their structure and typical usage. For loops are used when you know the number of iterations beforehand, while while loops are used when the number of iterations is unknown and depends on a condition being met.\n",
        "\n",
        "### **14. Describe a scenario where a while loop is more suitable than a for loop.**\n",
        "\n",
        "Ans:- For loops are best used when you know the number of iterations ahead of time, whereas a while loop is best used when you don't know the number of iterations in advance.\n",
        "\n"
      ],
      "metadata": {
        "id": "Kf_Ivxqio86Z"
      }
    },
    {
      "cell_type": "markdown",
      "source": [
        "# **Practical Questions**\n"
      ],
      "metadata": {
        "id": "Eu585UIxm3pn"
      }
    },
    {
      "cell_type": "code",
      "execution_count": null,
      "metadata": {
        "id": "gzasxcy2oSLy",
        "colab": {
          "base_uri": "https://localhost:8080/"
        },
        "outputId": "541497f0-1170-4efb-99bc-90028879a45d"
      },
      "outputs": [
        {
          "output_type": "stream",
          "name": "stdout",
          "text": [
            "Hello, World!\n"
          ]
        }
      ],
      "source": [
        "#1.Write a Python program to print \"Hello, World!\"\n",
        "\n",
        "print(\"Hello, World!\")"
      ]
    },
    {
      "cell_type": "code",
      "source": [
        "#2. Write a python program that displays your name and age.\n",
        "\n",
        "name = input(\"Enter the name  \")\n",
        "age = input(\"Enter the number  \")\n",
        "print(\"My name is\", name)\n",
        "print(\"My age is\", age)"
      ],
      "metadata": {
        "colab": {
          "base_uri": "https://localhost:8080/"
        },
        "id": "uJ4ND99Vo6ZV",
        "outputId": "9132a30b-519b-4423-aad4-4ba04eadad7a"
      },
      "execution_count": null,
      "outputs": [
        {
          "output_type": "stream",
          "name": "stdout",
          "text": [
            "Enter the name  Kshitij Shah\n",
            "Enter the number  19\n",
            "My name is Kshitij Shah\n",
            "My age is 19\n"
          ]
        }
      ]
    },
    {
      "cell_type": "code",
      "source": [
        "#3. Write a code to print all the pre-defined keywords in Python using the keyword library.\n",
        "\n",
        "import keyword\n",
        "print(keyword.kwlist)"
      ],
      "metadata": {
        "colab": {
          "base_uri": "https://localhost:8080/"
        },
        "id": "2gIu9k2SptRc",
        "outputId": "8e7b628f-742b-4f83-a81b-9502f2bbb0c2"
      },
      "execution_count": null,
      "outputs": [
        {
          "output_type": "stream",
          "name": "stdout",
          "text": [
            "['False', 'None', 'True', 'and', 'as', 'assert', 'async', 'await', 'break', 'class', 'continue', 'def', 'del', 'elif', 'else', 'except', 'finally', 'for', 'from', 'global', 'if', 'import', 'in', 'is', 'lambda', 'nonlocal', 'not', 'or', 'pass', 'raise', 'return', 'try', 'while', 'with', 'yield']\n"
          ]
        }
      ]
    },
    {
      "cell_type": "code",
      "source": [
        "#4. Write a program to check if a given word is a Python keyword.\n",
        "import keyword\n",
        "\n",
        "def check_if_keyword(word):\n",
        "  return keyword.iskeyword(word)\n",
        "\n",
        "word1 = \"for\"\n",
        "word2 = \"my_variable\"\n",
        "word3 = \"True\"\n",
        "word4 = \"print\"\n",
        "\n",
        "print(f\"'{word1}' is a keyword: {check_if_keyword(word1)}\")\n",
        "print(f\"'{word2}' is a keyword: {check_if_keyword(word2)}\")\n",
        "print(f\"'{word3}' is a keyword: {check_if_keyword(word3)}\")\n",
        "print(f\"'{word4}' is a keyword: {check_if_keyword(word4)}\")"
      ],
      "metadata": {
        "id": "f57LDN2Xqrxl",
        "colab": {
          "base_uri": "https://localhost:8080/"
        },
        "outputId": "603964be-9d5b-4153-ffe8-64fcf053d14c"
      },
      "execution_count": null,
      "outputs": [
        {
          "output_type": "stream",
          "name": "stdout",
          "text": [
            "'for' is a keyword: True\n",
            "'my_variable' is a keyword: False\n",
            "'True' is a keyword: True\n",
            "'print' is a keyword: False\n"
          ]
        }
      ]
    },
    {
      "cell_type": "code",
      "source": [
        "#5. Create a list and tuple in Python and demonstrate how attempting to change an element works differently for each.\n",
        "\n",
        "#List\n",
        "list = [7, 14, 21, 28]\n",
        "print(f\"Original list: {list}\")\n",
        "\n",
        "list[1] = 25\n",
        "print(f\"Modified list: {list}\")\n",
        "\n",
        "#Tuple\n",
        "tuple = (700, 1400, 2100, 2800)\n",
        "print(f\"Original tuple: {tuple}\")\n",
        "\n",
        "try:\n",
        "    tuple[1] = 250\n",
        "except TypeError as e:\n",
        "    print(f\"Error attempting to modify tuple: {e}\")\n"
      ],
      "metadata": {
        "colab": {
          "base_uri": "https://localhost:8080/"
        },
        "id": "jN2bARVUnKw5",
        "outputId": "e54da017-150a-44c3-ae14-a45ff37c4850"
      },
      "execution_count": null,
      "outputs": [
        {
          "output_type": "stream",
          "name": "stdout",
          "text": [
            "Original list: [7, 14, 21, 28]\n",
            "Modified list: [7, 25, 21, 28]\n",
            "Original tuple: (700, 1400, 2100, 2800)\n",
            "Error attempting to modify tuple: 'tuple' object does not support item assignment\n"
          ]
        }
      ]
    },
    {
      "cell_type": "code",
      "source": [
        "# 6. Write a function to demonstrate the behavior of mutable and immutable arguments\n",
        "\n",
        "def demonstrate_mutability(mutable_arg, immutable_arg):\n",
        "  print(\"Inside function:\")\n",
        "  print(f\"  Before changes:\")\n",
        "  print(f\"    Mutable argument (list): {mutable_arg}\")\n",
        "  print(f\"    Immutable argument (string): {immutable_arg}\")\n",
        "\n",
        "  mutable_arg.append(5)\n",
        "\n",
        "  immutable_arg = immutable_arg + \" world!\"\n",
        "\n",
        "  print(f\"  After changes:\")\n",
        "  print(f\"    Mutable argument (list): {mutable_arg}\")\n",
        "  print(f\"    Immutable argument (string): {immutable_arg}\")\n",
        "  print(\"-\" * 20)\n",
        "\n",
        "my_list = [1, 2, 3, 4]\n",
        "my_string = \"Hello\"\n",
        "\n",
        "print(\"Before function call:\")\n",
        "print(f\"  Original list: {my_list}\")\n",
        "print(f\"  Original string: {my_string}\")\n",
        "print(\"-\" * 20)\n",
        "\n",
        "demonstrate_mutability(my_list, my_string)\n",
        "\n",
        "print(\"After function call:\")\n",
        "print(f\"  List after function: {my_list}\")\n",
        "print(f\"  String after function: {my_string}\")\n"
      ],
      "metadata": {
        "colab": {
          "base_uri": "https://localhost:8080/"
        },
        "id": "zBz4eSp6vSrQ",
        "outputId": "2228270b-6ccf-4a21-bb61-6802c776e118"
      },
      "execution_count": 25,
      "outputs": [
        {
          "output_type": "stream",
          "name": "stdout",
          "text": [
            "Before function call:\n",
            "  Original list: [1, 2, 3, 4]\n",
            "  Original string: Hello\n",
            "--------------------\n",
            "Inside function:\n",
            "  Before changes:\n",
            "    Mutable argument (list): [1, 2, 3, 4]\n",
            "    Immutable argument (string): Hello\n",
            "  After changes:\n",
            "    Mutable argument (list): [1, 2, 3, 4, 5]\n",
            "    Immutable argument (string): Hello world!\n",
            "--------------------\n",
            "After function call:\n",
            "  List after function: [1, 2, 3, 4, 5]\n",
            "  String after function: Hello\n"
          ]
        }
      ]
    },
    {
      "cell_type": "code",
      "source": [
        "#7. Write a program that performs basic arithmetic operations on two user-input numbers.\n",
        "value1= int(input(\"Enter the number1 \"))\n",
        "value2= int(input(\"Enter the number2 \"))\n",
        "print(\"Addition is\", value1+value2)\n",
        "print(\"Subtraction is\", value1 - value2)\n",
        "print(\"Multiplication is\", value1*value2)\n",
        "print(\"Division is\", value1/value2)"
      ],
      "metadata": {
        "colab": {
          "base_uri": "https://localhost:8080/"
        },
        "id": "OBGoawXaoddC",
        "outputId": "1409c825-d4b5-42f6-9541-1d713e0f6f86"
      },
      "execution_count": null,
      "outputs": [
        {
          "output_type": "stream",
          "name": "stdout",
          "text": [
            "Enter the number1 14\n",
            "Enter the number2 7\n",
            "Addition is 21\n",
            "Subtraction is 7\n",
            "Multiplication is 98\n",
            "Division is 2.0\n"
          ]
        }
      ]
    },
    {
      "cell_type": "code",
      "source": [
        "#8. Write a program to demonstratethe use of logical operators.\n",
        "rainy_weather = True\n",
        "sunny_weather = False\n",
        "has_umbrella = True\n",
        "if rainy_weather and has_umbrella:\n",
        "  print(\"You can go for market\")\n",
        "else:\n",
        "  print(\"You cant go for market\")\n",
        "\n",
        "if rainy_weather or sunny_weather:\n",
        "  print(\"If its not raining then you can go to play\")\n",
        "else:\n",
        "  print(\"Its raining dont go to play\")\n",
        "\n",
        "if not sunny_weather:\n",
        "  print(\"It is not sunny\")\n",
        "else:\n",
        "  print(\"It is sunny\")"
      ],
      "metadata": {
        "colab": {
          "base_uri": "https://localhost:8080/"
        },
        "id": "QEziL4U-qb-D",
        "outputId": "d1b4e921-2f23-43a4-961b-80054c9a2da7"
      },
      "execution_count": null,
      "outputs": [
        {
          "output_type": "stream",
          "name": "stdout",
          "text": [
            "You can go for market\n",
            "If its not raining then you can go to play\n",
            "It is not sunny\n"
          ]
        }
      ]
    },
    {
      "cell_type": "code",
      "source": [
        "#9. Write a python program to convert user input from string to integer, float and boolean types\n",
        "\n",
        "#string to integer\n",
        "k = input(\"Enter the number \")\n",
        "print(type(k))\n",
        "print(type(int((k))))\n",
        "\n",
        "#string to float\n",
        "k = input(\"Enter the number \")\n",
        "print(type(k))\n",
        "print(type(float(k)))\n",
        "\n",
        "#string to boolean\n",
        "k = input(\"Enter the number \")\n",
        "print(type(k))\n",
        "print(type(bool(k)))\n"
      ],
      "metadata": {
        "colab": {
          "base_uri": "https://localhost:8080/"
        },
        "id": "Sq2NNDdXwUMz",
        "outputId": "f9dc1322-e05a-425b-f7e9-a2e765081196"
      },
      "execution_count": null,
      "outputs": [
        {
          "output_type": "stream",
          "name": "stdout",
          "text": [
            "Enter the number 7\n",
            "<class 'str'>\n",
            "<class 'int'>\n",
            "Enter the number 14\n",
            "<class 'str'>\n",
            "<class 'float'>\n",
            "Enter the number 21\n",
            "<class 'str'>\n",
            "<class 'bool'>\n"
          ]
        }
      ]
    },
    {
      "cell_type": "code",
      "source": [
        "#10. Write a code to demonstrate type casting with list elements\n",
        "my_list = [\"10\", 25.5, \"30\", 40]\n",
        "\n",
        "print(\"Original list:\", my_list)\n",
        "print(\"Types of elements in original list:\")\n",
        "for item in my_list:\n",
        "    print(f\"- {item}: {type(item)}\")\n",
        "\n",
        "my_list[0] = int(my_list[0])\n",
        "\n",
        "my_list[1] = int(my_list[1])\n",
        "\n",
        "my_list[2] = float(my_list[2])\n",
        "\n",
        "my_list[3] = str(my_list[3])\n",
        "\n",
        "print(\"List after type casting:\")\n",
        "print(my_list)\n",
        "print(\"Types of elements in modified list:\")\n",
        "for item in my_list:\n",
        "    print(f\"- {item}: {type(item)}\")"
      ],
      "metadata": {
        "colab": {
          "base_uri": "https://localhost:8080/"
        },
        "id": "_vWgRgMUxlWs",
        "outputId": "401375a6-78d6-4454-c86e-eefe7b9f2fc7"
      },
      "execution_count": null,
      "outputs": [
        {
          "output_type": "stream",
          "name": "stdout",
          "text": [
            "Original list: ['10', 25.5, '30', 40]\n",
            "Types of elements in original list:\n",
            "- 10: <class 'str'>\n",
            "- 25.5: <class 'float'>\n",
            "- 30: <class 'str'>\n",
            "- 40: <class 'int'>\n",
            "List after type casting:\n",
            "[10, 25, 30.0, '40']\n",
            "Types of elements in modified list:\n",
            "- 10: <class 'int'>\n",
            "- 25: <class 'int'>\n",
            "- 30.0: <class 'float'>\n",
            "- 40: <class 'str'>\n"
          ]
        }
      ]
    },
    {
      "cell_type": "code",
      "source": [
        "#11. Write a program that checks if a number is positive, negative or zero.\n",
        "num = input(\"Enter the number \")\n",
        "if int(num)>0:\n",
        "  print(\"The entered number is a positive number\")\n",
        "else:\n",
        "  print(\"The entered number is a negative number\")\n",
        "  if int(num)==0:\n",
        "    print(\"The entered number is 0\")\n",
        "  else:\n",
        "    print(\"The entered number is not 0\")"
      ],
      "metadata": {
        "colab": {
          "base_uri": "https://localhost:8080/"
        },
        "id": "xKEJ4iH-0jEI",
        "outputId": "edfff563-4413-495b-bf90-bd7d06c75c5a"
      },
      "execution_count": null,
      "outputs": [
        {
          "output_type": "stream",
          "name": "stdout",
          "text": [
            "Enter the number 7\n",
            "The entered number is a positive number\n"
          ]
        }
      ]
    },
    {
      "cell_type": "code",
      "source": [
        "#12. Write a for loop to print numbers from 1 to 10.\n",
        "list(range(1,11))\n",
        "for i in range(1,11):\n",
        "  print(i, end=\" \")"
      ],
      "metadata": {
        "id": "kWsI6dKl10ks",
        "colab": {
          "base_uri": "https://localhost:8080/"
        },
        "outputId": "15bc6bb1-9fcb-4b42-fecf-26e410215079"
      },
      "execution_count": null,
      "outputs": [
        {
          "output_type": "stream",
          "name": "stdout",
          "text": [
            "1 2 3 4 5 6 7 8 9 10 "
          ]
        }
      ]
    },
    {
      "cell_type": "code",
      "source": [
        "#13. Write a python program to find the sum of all even numbers between 1 and 50.\n",
        "sum = 0;\n",
        "for i in range(2, 51, 2):\n",
        "  sum += i\n",
        "  print(f\"The sum of all even numbers between 1 and 50 is, {sum}\")"
      ],
      "metadata": {
        "colab": {
          "base_uri": "https://localhost:8080/"
        },
        "id": "JEebppZAbmEG",
        "outputId": "bd04f167-dac0-47f5-8fbe-41dbd74b38a8"
      },
      "execution_count": null,
      "outputs": [
        {
          "output_type": "stream",
          "name": "stdout",
          "text": [
            "The sum of all even numbers between 1 and 50 is, 2\n",
            "The sum of all even numbers between 1 and 50 is, 6\n",
            "The sum of all even numbers between 1 and 50 is, 12\n",
            "The sum of all even numbers between 1 and 50 is, 20\n",
            "The sum of all even numbers between 1 and 50 is, 30\n",
            "The sum of all even numbers between 1 and 50 is, 42\n",
            "The sum of all even numbers between 1 and 50 is, 56\n",
            "The sum of all even numbers between 1 and 50 is, 72\n",
            "The sum of all even numbers between 1 and 50 is, 90\n",
            "The sum of all even numbers between 1 and 50 is, 110\n",
            "The sum of all even numbers between 1 and 50 is, 132\n",
            "The sum of all even numbers between 1 and 50 is, 156\n",
            "The sum of all even numbers between 1 and 50 is, 182\n",
            "The sum of all even numbers between 1 and 50 is, 210\n",
            "The sum of all even numbers between 1 and 50 is, 240\n",
            "The sum of all even numbers between 1 and 50 is, 272\n",
            "The sum of all even numbers between 1 and 50 is, 306\n",
            "The sum of all even numbers between 1 and 50 is, 342\n",
            "The sum of all even numbers between 1 and 50 is, 380\n",
            "The sum of all even numbers between 1 and 50 is, 420\n",
            "The sum of all even numbers between 1 and 50 is, 462\n",
            "The sum of all even numbers between 1 and 50 is, 506\n",
            "The sum of all even numbers between 1 and 50 is, 552\n",
            "The sum of all even numbers between 1 and 50 is, 600\n",
            "The sum of all even numbers between 1 and 50 is, 650\n"
          ]
        }
      ]
    },
    {
      "cell_type": "code",
      "source": [
        "#14. Write a program to reverse a string using while loop\n",
        "def reverse_string_while_loop(input_string):\n",
        "    reversed_string = \"\"\n",
        "    index = len(input_string) - 1\n",
        "\n",
        "    while index >= 0:\n",
        "        reversed_string += input_string[index]\n",
        "        index -= 1\n",
        "\n",
        "    return reversed_string\n",
        "\n",
        "original_string = \"Hello World\"\n",
        "reversed_result = reverse_string_while_loop(original_string)\n",
        "print(f\"Original string: {original_string}\")\n",
        "print(f\"Reversed string: {reversed_result}\")\n"
      ],
      "metadata": {
        "colab": {
          "base_uri": "https://localhost:8080/"
        },
        "id": "fEON85Iicosf",
        "outputId": "afc1db66-6cb3-47b4-f453-f2691fba21e3"
      },
      "execution_count": null,
      "outputs": [
        {
          "output_type": "stream",
          "name": "stdout",
          "text": [
            "Original string: Hello World\n",
            "Reversed string: dlroW olleH\n"
          ]
        }
      ]
    },
    {
      "cell_type": "code",
      "source": [
        "#15. Write a python program to calculate the factorial of a number provided by the user using while loop.\n",
        "num = int(input(\"Enter a non-negative integer: \"))\n",
        "\n",
        "\n",
        "if num < 0:\n",
        "    print(\"Factorial is not defined for negative numbers.\")\n",
        "else:\n",
        "    factorial = 1\n",
        "    i = 1\n",
        "    while i <= num:\n",
        "        factorial *= i\n",
        "        i += 1\n",
        "    print(f\"The factorial of {num} is {factorial}\")"
      ],
      "metadata": {
        "colab": {
          "base_uri": "https://localhost:8080/"
        },
        "id": "8ezqlHvMepeH",
        "outputId": "83630c2e-4f21-4f0b-d85b-5cef325b0140"
      },
      "execution_count": null,
      "outputs": [
        {
          "output_type": "stream",
          "name": "stdout",
          "text": [
            "Enter a non-negative integer: 7\n",
            "The factorial of 7 is 5040\n"
          ]
        }
      ]
    }
  ]
}